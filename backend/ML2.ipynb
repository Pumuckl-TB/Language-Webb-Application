{
 "cells": [
  {
   "cell_type": "code",
   "execution_count": 162,
   "metadata": {},
   "outputs": [],
   "source": [
    "import pandas as pd\n",
    "import numpy as np\n",
    "import sklearn\n",
    "import datetime\n",
    "from sklearn.preprocessing import StandardScaler\n",
    "from sklearn.linear_model import LinearRegression\n",
    "from sklearn import preprocessing\n",
    "from sklearn.model_selection import GridSearchCV"
   ]
  },
  {
   "cell_type": "code",
   "execution_count": 163,
   "metadata": {},
   "outputs": [],
   "source": [
    "# Import data for training and prediction\n",
    "train = pd.read_csv('data_for_training.csv')\n",
    "predictdf = pd.read_csv('data_for_prediction.csv')"
   ]
  },
  {
   "cell_type": "code",
   "execution_count": 164,
   "metadata": {},
   "outputs": [
    {
     "name": "stdout",
     "output_type": "stream",
     "text": [
      "   user_id  nr_tasks    time_obs  item_id       field            area_name  \\\n",
      "0        1         1  2021-04-12       23  vocabulary  Speaking Strategies   \n",
      "\n",
      "   area_order          section_name  section_order  \n",
      "0          20  Asking and Answering            130  \n",
      "------------------------------------------------\n",
      "   user_id  nr_tasks    time_obs  item_id    field area_name  area_order  \\\n",
      "0        3        15  2021-02-28      126  grammar      Verb          90   \n",
      "\n",
      "  section_name  section_order  \n",
      "0    Separable            550  \n",
      "------------------------------------------------\n",
      "Shape of train: (1932, 9)\n",
      "Shape of predictdf: (1288, 9)\n"
     ]
    }
   ],
   "source": [
    "# Remove unnecessary columns\n",
    "y = train['performance_task']\n",
    "final_id = pd.DataFrame(predictdf['user_exercise_id'])\n",
    "\n",
    "train = train.drop(['performance_task', 'exercise_duration', 'created_at', 'user_exercise_id', 'exercise_time_s'], axis = 1)\n",
    "predictdf = predictdf.drop(['created_at', 'user_exercise_id'], axis = 1)\n",
    "\n",
    "print(train.head(1))\n",
    "print('------------------------------------------------')\n",
    "print(predictdf.head(1))\n",
    "print('------------------------------------------------')\n",
    "print(\"Shape of train:\", train.shape)\n",
    "print(\"Shape of predictdf:\", predictdf.shape)"
   ]
  },
  {
   "cell_type": "code",
   "execution_count": 165,
   "metadata": {},
   "outputs": [
    {
     "name": "stdout",
     "output_type": "stream",
     "text": [
      "Shape of train: (1932, 9)\n",
      "Shape of predictdf: (1288, 9)\n"
     ]
    }
   ],
   "source": [
    "# Label encoded\n",
    "#train_encoded = pd.get_dummies(train, drop_first = True)\n",
    "#predictdf_encoded = pd.get_dummies(predictdf, drop_first = True)\n",
    "train = train.apply(preprocessing.LabelEncoder().fit_transform)\n",
    "predictdf = predictdf.apply(preprocessing.LabelEncoder().fit_transform)\n",
    "print(\"Shape of train:\", train.shape)\n",
    "print(\"Shape of predictdf:\", predictdf.shape)"
   ]
  },
  {
   "cell_type": "code",
   "execution_count": 166,
   "metadata": {},
   "outputs": [
    {
     "name": "stdout",
     "output_type": "stream",
     "text": [
      "Shape of train: (1932, 9)\n",
      "Shape of predictdf: (1288, 9)\n"
     ]
    }
   ],
   "source": [
    "# Make sure that date is in datetime format\n",
    "train['time_obs'] = pd.to_datetime(train['time_obs'])\n",
    "\n",
    "# Transform date into string - train\n",
    "train['time_string'] = train['time_obs'].dt.strftime('%Y%m%d')\n",
    "train = train.drop('time_obs', axis = 1)\n",
    "train.head()\n",
    "\n",
    "\n",
    "# Make sure that date is in datetime format\n",
    "predictdf['time_obs'] = pd.to_datetime(predictdf['time_obs'])\n",
    "\n",
    "# Transform date into string - predict\n",
    "predictdf['time_string'] = predictdf['time_obs'].dt.strftime('%Y%m%d')\n",
    "predictdf = predictdf.drop('time_obs', axis = 1)\n",
    "predictdf.head()\n",
    "\n",
    "print(\"Shape of train:\", train.shape)\n",
    "print(\"Shape of predictdf:\", predictdf.shape)"
   ]
  },
  {
   "cell_type": "code",
   "execution_count": 167,
   "metadata": {},
   "outputs": [
    {
     "name": "stdout",
     "output_type": "stream",
     "text": [
      "Shape of X_train: (1545, 9)\n",
      "Shape of y_train: (1545,)\n",
      "Shape of X_test: (387, 9)\n",
      "Shape of y_test: (387,)\n",
      "Shape of predictdf: (1288, 9)\n"
     ]
    }
   ],
   "source": [
    "# Split the dataset into the training dataset and the test dataset.\n",
    "def split_data(X, y, split_coeff):\n",
    "    N, _ = X.shape \n",
    "    train_size = int(split_coeff * N) \n",
    "    X_train = X[:train_size] \n",
    "    y_train = y[:train_size]\n",
    "    X_test = X[train_size:] \n",
    "    y_test = y[train_size:]\n",
    "    \n",
    "    return X_train, y_train, X_test, y_test\n",
    "\n",
    "# Define X and y and call the split fct\n",
    "X = train\n",
    "X_train, y_train, X_test, y_test = split_data(X, y, 0.8) \n",
    "\n",
    "# check the size of the splitted dataset\n",
    "print(\"Shape of X_train:\", X_train.shape)\n",
    "print(\"Shape of y_train:\", y_train.shape)\n",
    "print(\"Shape of X_test:\", X_test.shape)\n",
    "print(\"Shape of y_test:\", y_test.shape)\n",
    "print(\"Shape of predictdf:\", predictdf.shape)"
   ]
  },
  {
   "cell_type": "code",
   "execution_count": 168,
   "metadata": {},
   "outputs": [
    {
     "name": "stdout",
     "output_type": "stream",
     "text": [
      "Random Forest Mean Absolute Error on test set: 39.5\n",
      "Shape of final_output: (1288, 2)\n",
      "   user_exercise_id           0\n",
      "0                 3   12.332651\n",
      "1                 6  212.172633\n",
      "2                12   15.583501\n",
      "3                14   15.583501\n",
      "4                15   15.583501\n",
      "5                19   16.168810\n",
      "6                21   13.016364\n",
      "7                22   13.016364\n",
      "8                26   16.168810\n",
      "9                28   15.583501\n"
     ]
    }
   ],
   "source": [
    "############\n",
    "# MODEL 2: #\n",
    "############\n",
    "# Random Forest without accounting for different agents\n",
    "\n",
    "# Import the model we are using\n",
    "from sklearn.ensemble import RandomForestRegressor\n",
    "\n",
    "# Instantiate model with 1000 decision trees\n",
    "rf = RandomForestRegressor(n_estimators = 100, \n",
    "                           random_state = 42, \n",
    "                           max_depth = 5, \n",
    "                           min_samples_split =2)\n",
    "\n",
    "# Train the model on training data\n",
    "rf.fit(X_train, y_train)\n",
    "\n",
    "# Use the forest's predict method on the test data\n",
    "predict_rf = rf.predict(X_test)\n",
    "\n",
    "# Calculate the absolute errors\n",
    "errors_rf = abs(predict_rf - y_test)\n",
    "\n",
    "# Print out the mean absolute error (mae)\n",
    "print('Random Forest Mean Absolute Error on test set:', round(np.mean(errors_rf), 2))\n",
    "\n",
    "# Output prediction\n",
    "predict_output = pd.DataFrame(rf.predict(predictdf))\n",
    "final_output = pd.concat([final_id,predict_output],axis = 1)\n",
    "\n",
    "print(\"Shape of final_output:\", final_output.shape)\n",
    "print(final_output.head(10))"
   ]
  },
  {
   "cell_type": "code",
   "execution_count": 169,
   "metadata": {},
   "outputs": [
    {
     "data": {
      "text/plain": [
       "GridSearchCV(cv=5, estimator=RandomForestRegressor(random_state=42),\n",
       "             param_grid={'max_depth': [4, 5, 6, 7, 8],\n",
       "                         'max_features': ['auto', 'sqrt', 'log2'],\n",
       "                         'min_samples_split': [2, 4, 8],\n",
       "                         'n_estimators': [50, 100, 200, 500]})"
      ]
     },
     "execution_count": 169,
     "metadata": {},
     "output_type": "execute_result"
    }
   ],
   "source": [
    "rfc=RandomForestRegressor(random_state=42)\n",
    "\n",
    "param_grid = { \n",
    "    'n_estimators': [50, 100, 200, 500],\n",
    "    'max_features': ['auto', 'sqrt', 'log2'],\n",
    "    'max_depth' : [4,5,6,7,8],\n",
    "    'min_samples_split' : [2,4,8],\n",
    "}\n",
    "\n",
    "CV_rfc = GridSearchCV(estimator=rfc, param_grid=param_grid, cv= 5)\n",
    "CV_rfc.fit(X_train, y_train)"
   ]
  },
  {
   "cell_type": "code",
   "execution_count": 170,
   "metadata": {},
   "outputs": [
    {
     "data": {
      "text/plain": [
       "{'max_depth': 6,\n",
       " 'max_features': 'sqrt',\n",
       " 'min_samples_split': 8,\n",
       " 'n_estimators': 100}"
      ]
     },
     "execution_count": 170,
     "metadata": {},
     "output_type": "execute_result"
    }
   ],
   "source": [
    "# Print the result of the Grid search - the optimal parameters\n",
    "CV_rfc.best_params_"
   ]
  },
  {
   "cell_type": "code",
   "execution_count": 171,
   "metadata": {},
   "outputs": [
    {
     "name": "stdout",
     "output_type": "stream",
     "text": [
      "Random Forest Grid Search Mean Absolute Error on test set: 38.28\n",
      "Shape of final_output: (1288, 2)\n",
      "   user_exercise_id           0\n",
      "0                 3   12.332651\n",
      "1                 6  212.172633\n",
      "2                12   15.583501\n",
      "3                14   15.583501\n",
      "4                15   15.583501\n",
      "5                19   16.168810\n",
      "6                21   13.016364\n",
      "7                22   13.016364\n",
      "8                26   16.168810\n",
      "9                28   15.583501\n"
     ]
    }
   ],
   "source": [
    "# use the best hyperparameters from the gridsearch\n",
    "rfc1 = RandomForestRegressor(random_state=42,\n",
    "                             max_features='auto',\n",
    "                             n_estimators= 100,\n",
    "                             max_depth=6,\n",
    "                             min_samples_split=8\n",
    "                            )\n",
    "\n",
    "# train the model\n",
    "rfc1.fit(X_train, y_train)\n",
    "\n",
    "# Use the forest's predict method on the test data\n",
    "pred = rfc1.predict(X_test)\n",
    "\n",
    "# Calculate the absolute errors\n",
    "errors_rf2 = abs(pred - y_test)\n",
    "\n",
    "# Print out the mean absolute error (mae)\n",
    "print('Random Forest Grid Search Mean Absolute Error on test set:', round(np.mean(errors_rf2), 2))\n",
    "\n",
    "# Output prediction\n",
    "predict_output2 = pd.DataFrame(rfc1.predict(predictdf))\n",
    "final_output2 = pd.concat([final_id,predict_output2],axis = 1)\n",
    "\n",
    "print(\"Shape of final_output:\", final_output2.shape)\n",
    "print(final_output.head(10))\n",
    "\n"
   ]
  },
  {
   "cell_type": "code",
   "execution_count": null,
   "metadata": {},
   "outputs": [],
   "source": []
  }
 ],
 "metadata": {
  "kernelspec": {
   "display_name": "Python 3",
   "language": "python",
   "name": "python3"
  },
  "language_info": {
   "codemirror_mode": {
    "name": "ipython",
    "version": 3
   },
   "file_extension": ".py",
   "mimetype": "text/x-python",
   "name": "python",
   "nbconvert_exporter": "python",
   "pygments_lexer": "ipython3",
   "version": "3.6.6"
  }
 },
 "nbformat": 4,
 "nbformat_minor": 2
}
